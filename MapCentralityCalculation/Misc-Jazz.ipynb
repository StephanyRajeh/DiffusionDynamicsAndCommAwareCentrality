{
 "cells": [
  {
   "cell_type": "markdown",
   "id": "43d9a51e",
   "metadata": {},
   "source": [
    "# Real-world network"
   ]
  },
  {
   "cell_type": "code",
   "execution_count": 1,
   "id": "e61acc21",
   "metadata": {},
   "outputs": [],
   "source": [
    "import networkx as nx\n",
    "from networkx.algorithms.centrality import *\n",
    "import numpy as np\n",
    "import operator\n",
    "from analysis import *"
   ]
  },
  {
   "cell_type": "code",
   "execution_count": 2,
   "id": "b8c49150",
   "metadata": {},
   "outputs": [],
   "source": [
    "g = nx.read_gml(\"./RealNetworks/jazz.gml\")"
   ]
  },
  {
   "cell_type": "code",
   "execution_count": 3,
   "id": "d819e1fe",
   "metadata": {
    "scrolled": true
   },
   "outputs": [
    {
     "name": "stdout",
     "output_type": "stream",
     "text": [
      "Graph with 198 nodes and 2742 edges\n"
     ]
    },
    {
     "name": "stderr",
     "output_type": "stream",
     "text": [
      "<ipython-input-3-99dac2172e06>:1: DeprecationWarning: info is deprecated and will be removed in version 3.0.\n",
      "\n",
      "  print(nx.info(g))\n"
     ]
    }
   ],
   "source": [
    "print(nx.info(g))"
   ]
  },
  {
   "cell_type": "markdown",
   "id": "202c17db",
   "metadata": {},
   "source": [
    "# Check connectedness"
   ]
  },
  {
   "cell_type": "code",
   "execution_count": 4,
   "id": "31f16d8a",
   "metadata": {
    "scrolled": true
   },
   "outputs": [
    {
     "data": {
      "text/plain": [
       "True"
      ]
     },
     "execution_count": 4,
     "metadata": {},
     "output_type": "execute_result"
    }
   ],
   "source": [
    "nx.is_connected(g)"
   ]
  },
  {
   "cell_type": "code",
   "execution_count": 5,
   "id": "2de0864e",
   "metadata": {},
   "outputs": [
    {
     "data": {
      "text/plain": [
       "1"
      ]
     },
     "execution_count": 5,
     "metadata": {},
     "output_type": "execute_result"
    }
   ],
   "source": [
    "nx.number_connected_components(g)"
   ]
  },
  {
   "cell_type": "markdown",
   "id": "95a58fe2",
   "metadata": {},
   "source": [
    "# Get LCC if graph is disconnected"
   ]
  },
  {
   "cell_type": "raw",
   "id": "bb6cefd2",
   "metadata": {},
   "source": [
    "\"\"\"Step 5: If the graph after immunization is disconnected, get the largest component\"\"\"\n",
    "g_lcc = nx.Graph() \n",
    "\n",
    "if nx.is_connected(g) == False: \n",
    "    largestComponents = [g.subgraph(c).copy() for c in sorted(nx.connected_components(g), key=len, reverse=True)] \n",
    "    print(nx.info(largestComponents[0]))\n",
    "\n",
    "g_lcc=largestComponents[0] \n",
    "\n",
    "print(nx.info(g_lcc))\n",
    "\n",
    "g = g_lcc\n",
    "\n",
    "print(nx.info(g))"
   ]
  },
  {
   "cell_type": "markdown",
   "id": "effe9aef",
   "metadata": {},
   "source": [
    "# Relabel it all if nodes are strings\n",
    "- To be able to run all types of correlation together\n",
    "- But put the graph relabled in `g_relabled`"
   ]
  },
  {
   "cell_type": "code",
   "execution_count": 6,
   "id": "b6861f34",
   "metadata": {},
   "outputs": [],
   "source": [
    "from myTruss import mappingAndRelabeling"
   ]
  },
  {
   "cell_type": "code",
   "execution_count": 7,
   "id": "42774d3b",
   "metadata": {},
   "outputs": [],
   "source": [
    "g_relabled = mappingAndRelabeling(g)"
   ]
  },
  {
   "cell_type": "code",
   "execution_count": 8,
   "id": "7ba6d76c",
   "metadata": {},
   "outputs": [
    {
     "name": "stdout",
     "output_type": "stream",
     "text": [
      "Graph with 198 nodes and 2742 edges\n",
      "Graph with 198 nodes and 2742 edges\n"
     ]
    },
    {
     "name": "stderr",
     "output_type": "stream",
     "text": [
      "<ipython-input-8-632c4a2d19f6>:1: DeprecationWarning: info is deprecated and will be removed in version 3.0.\n",
      "\n",
      "  print(nx.info(g))\n",
      "<ipython-input-8-632c4a2d19f6>:2: DeprecationWarning: info is deprecated and will be removed in version 3.0.\n",
      "\n",
      "  print(nx.info(g_relabled))\n"
     ]
    }
   ],
   "source": [
    "print(nx.info(g))\n",
    "print(nx.info(g_relabled))"
   ]
  },
  {
   "cell_type": "code",
   "execution_count": 9,
   "id": "fbdfb76a",
   "metadata": {},
   "outputs": [],
   "source": [
    "g = g_relabled"
   ]
  },
  {
   "cell_type": "markdown",
   "id": "720c54c0",
   "metadata": {},
   "source": [
    "# Infer community structure with Louvain"
   ]
  },
  {
   "cell_type": "code",
   "execution_count": 10,
   "id": "ea12d7ab",
   "metadata": {
    "scrolled": true
   },
   "outputs": [
    {
     "data": {
      "text/plain": [
       "'2.8.4'"
      ]
     },
     "execution_count": 10,
     "metadata": {},
     "output_type": "execute_result"
    }
   ],
   "source": [
    "nx.__version__"
   ]
  },
  {
   "cell_type": "code",
   "execution_count": 11,
   "id": "d87ac148",
   "metadata": {},
   "outputs": [],
   "source": [
    "import pandas as pd\n",
    "from os.path  import exists\n",
    "import infomap as im"
   ]
  },
  {
   "cell_type": "code",
   "execution_count": 12,
   "id": "da91b8ea",
   "metadata": {},
   "outputs": [
    {
     "data": {
      "text/plain": [
       "'2.3.0'"
      ]
     },
     "execution_count": 12,
     "metadata": {},
     "output_type": "execute_result"
    }
   ],
   "source": [
    "im.__version__"
   ]
  },
  {
   "cell_type": "code",
   "execution_count": 13,
   "id": "e4e5b0ec",
   "metadata": {},
   "outputs": [],
   "source": [
    "G = g"
   ]
  },
  {
   "cell_type": "code",
   "execution_count": 14,
   "id": "8688890e",
   "metadata": {},
   "outputs": [
    {
     "name": "stderr",
     "output_type": "stream",
     "text": [
      "Progress |################################| 4/4\n",
      "\u001b[?25h"
     ]
    }
   ],
   "source": [
    "partition   = nx.algorithms.community.louvain_communities(G, seed = 0)\n",
    "partition_Q = nx.algorithms.community.modularity(G, partition)\n",
    "\n",
    "for seed in Bar(\"Progress\", check_tty = False).iter(range(1,5)):\n",
    "    partition_   = nx.algorithms.community.louvain_communities(G, seed = seed)\n",
    "    partition_Q_ = nx.algorithms.community.modularity(G, partition_)\n",
    "    \n",
    "    if partition_Q_ > partition_Q:\n",
    "        partition   = partition_\n",
    "        partition_Q = partition_Q_"
   ]
  },
  {
   "cell_type": "code",
   "execution_count": 15,
   "id": "9886be17",
   "metadata": {},
   "outputs": [],
   "source": [
    "communities = { community_ID : set(community) for (community_ID, community) in enumerate(partition, start = 1)}"
   ]
  },
  {
   "cell_type": "code",
   "execution_count": 16,
   "id": "1516539c",
   "metadata": {},
   "outputs": [],
   "source": [
    "community_assignments = dict()\n",
    "for (community_ID, community) in communities.items():\n",
    "    for node in community:\n",
    "        community_assignments[node] = community_ID"
   ]
  },
  {
   "cell_type": "code",
   "execution_count": 17,
   "id": "3c84a416",
   "metadata": {},
   "outputs": [],
   "source": [
    "results_file = \"./results/jazz-modularity.csv\"\n",
    "\n",
    "if not exists(results_file):\n",
    "    # Map Equation Centrality\n",
    "    tree_file = \"./results/jazz-temp.tree\"\n",
    "\n",
    "    # use Infomap to write a tree file that we change to reflect the Louvain partition\n",
    "    infomap = im.Infomap(silent = True, num_trials = 1, directed = False, two_level = True, seed = 42)\n",
    "    infomap.add_networkx_graph(G)\n",
    "    infomap.run()\n",
    "    infomap.write_tree(tree_file)\n",
    "    \n",
    "    infomap_tree = dict()\n",
    "\n",
    "    # read the tree file\n",
    "    with open(tree_file, \"r\") as fh:\n",
    "        for line in fh:\n",
    "            if not line.startswith(\"#\"):\n",
    "                _, flow, name, node_id = line.strip().split(\" \")\n",
    "                name = name[1:-1]\n",
    "                infomap_tree[int(name)] = (flow, node_id)\n",
    "    \n",
    "    # write the Louvain partition to an Infomap tree file\n",
    "    with open(\"./results/jazz-modularity.tree\", \"w\") as fh:\n",
    "        for community_ID, community in enumerate(partition, start = 1):\n",
    "            for node_pos, node in enumerate(community, start = 1):\n",
    "                path = f\"{community_ID}:{node_pos}\"\n",
    "                flow, node_id = infomap_tree[node]\n",
    "                fh.write(f\"{path} {flow} \\\"{node}\\\" {node_id}\\n\")\n",
    "    \n",
    "    # Load the Louvain partition with Infomap and use unrecorded link teleportation\n",
    "    infomap2 = im.Infomap(\"--silent --no-infomap --cluster-data ./results/jazz-modularity.tree\")\n",
    "    node_mapping = infomap2.add_networkx_graph(G)\n",
    "    infomap2.run()\n",
    "    \n",
    "    mec_ranks = [node for node, _score in sorted( [ (node_mapping[node.node_id], node.modular_centrality) for node in infomap2.iterLeafNodes() ]\n",
    "                                                 , key     = second\n",
    "                                                 , reverse = True\n",
    "                                                 )]\n",
    "\n",
    "    \n",
    "    index = []\n",
    "    for node in G.nodes:\n",
    "        index.append(node)\n",
    "\n",
    "    results = pd.DataFrame(index=index)\n",
    "\n",
    "    results[\"map equation centrality rank\"]       = toRanking(mec_ranks,        results.index)\n",
    "    results.to_csv(results_file)\n",
    "\n",
    "else:\n",
    "    results = pd.read_csv(results_file, index_col = 0)\n",
    "\n",
    "    mec_ranks         = mkRanks(results[\"map equation centrality rank\"])"
   ]
  },
  {
   "cell_type": "code",
   "execution_count": 18,
   "id": "af2edadd",
   "metadata": {},
   "outputs": [
    {
     "data": {
      "text/plain": [
       "198"
      ]
     },
     "execution_count": 18,
     "metadata": {},
     "output_type": "execute_result"
    }
   ],
   "source": [
    "len(mec_ranks)"
   ]
  },
  {
   "cell_type": "code",
   "execution_count": 19,
   "id": "3c809f7e",
   "metadata": {},
   "outputs": [
    {
     "data": {
      "text/plain": [
       "[21,\n",
       " 30,\n",
       " 12,\n",
       " 15,\n",
       " 101,\n",
       " 4,\n",
       " 9,\n",
       " 103,\n",
       " 71,\n",
       " 93,\n",
       " 10,\n",
       " 90,\n",
       " 41,\n",
       " 75,\n",
       " 132,\n",
       " 73,\n",
       " 29,\n",
       " 129,\n",
       " 100,\n",
       " 44,\n",
       " 5,\n",
       " 6,\n",
       " 36,\n",
       " 42,\n",
       " 3,\n",
       " 45,\n",
       " 77,\n",
       " 85,\n",
       " 131,\n",
       " 16,\n",
       " 91,\n",
       " 135,\n",
       " 63,\n",
       " 18,\n",
       " 25,\n",
       " 13,\n",
       " 1,\n",
       " 88,\n",
       " 96,\n",
       " 43,\n",
       " 125,\n",
       " 26,\n",
       " 106,\n",
       " 2,\n",
       " 48,\n",
       " 159,\n",
       " 136,\n",
       " 155,\n",
       " 47,\n",
       " 86,\n",
       " 112,\n",
       " 149,\n",
       " 27,\n",
       " 62,\n",
       " 37,\n",
       " 51,\n",
       " 89,\n",
       " 80,\n",
       " 92,\n",
       " 82,\n",
       " 67,\n",
       " 49,\n",
       " 50,\n",
       " 56,\n",
       " 55,\n",
       " 57,\n",
       " 99,\n",
       " 156,\n",
       " 52,\n",
       " 54,\n",
       " 98,\n",
       " 53,\n",
       " 28,\n",
       " 72,\n",
       " 148,\n",
       " 152,\n",
       " 160,\n",
       " 175,\n",
       " 118,\n",
       " 64,\n",
       " 46,\n",
       " 108,\n",
       " 17,\n",
       " 39,\n",
       " 114,\n",
       " 65,\n",
       " 167,\n",
       " 107,\n",
       " 151,\n",
       " 76,\n",
       " 61,\n",
       " 94,\n",
       " 69,\n",
       " 74,\n",
       " 104,\n",
       " 23,\n",
       " 95,\n",
       " 105,\n",
       " 40,\n",
       " 97,\n",
       " 84,\n",
       " 147,\n",
       " 180,\n",
       " 35,\n",
       " 109,\n",
       " 87,\n",
       " 173,\n",
       " 174,\n",
       " 0,\n",
       " 20,\n",
       " 186,\n",
       " 70,\n",
       " 7,\n",
       " 68,\n",
       " 66,\n",
       " 170,\n",
       " 172,\n",
       " 171,\n",
       " 163,\n",
       " 11,\n",
       " 79,\n",
       " 8,\n",
       " 81,\n",
       " 22,\n",
       " 179,\n",
       " 177,\n",
       " 130,\n",
       " 122,\n",
       " 123,\n",
       " 31,\n",
       " 184,\n",
       " 185,\n",
       " 113,\n",
       " 168,\n",
       " 153,\n",
       " 169,\n",
       " 60,\n",
       " 119,\n",
       " 178,\n",
       " 189,\n",
       " 24,\n",
       " 176,\n",
       " 161,\n",
       " 158,\n",
       " 117,\n",
       " 154,\n",
       " 146,\n",
       " 157,\n",
       " 110,\n",
       " 127,\n",
       " 58,\n",
       " 59,\n",
       " 121,\n",
       " 142,\n",
       " 78,\n",
       " 120,\n",
       " 128,\n",
       " 187,\n",
       " 150,\n",
       " 124,\n",
       " 19,\n",
       " 162,\n",
       " 115,\n",
       " 38,\n",
       " 14,\n",
       " 111,\n",
       " 33,\n",
       " 195,\n",
       " 102,\n",
       " 34,\n",
       " 32,\n",
       " 116,\n",
       " 134,\n",
       " 182,\n",
       " 183,\n",
       " 83,\n",
       " 145,\n",
       " 140,\n",
       " 144,\n",
       " 164,\n",
       " 137,\n",
       " 143,\n",
       " 141,\n",
       " 191,\n",
       " 193,\n",
       " 139,\n",
       " 133,\n",
       " 126,\n",
       " 138,\n",
       " 165,\n",
       " 166,\n",
       " 192,\n",
       " 188,\n",
       " 197,\n",
       " 196,\n",
       " 194,\n",
       " 181,\n",
       " 190]"
      ]
     },
     "execution_count": 19,
     "metadata": {},
     "output_type": "execute_result"
    }
   ],
   "source": [
    "# node 107 has rank 0 (i.e. 1)\n",
    "# node 1684 has rank 1 (i.e. 2)\n",
    "# ...\n",
    "# node 0 has rank 4 (i.e. 5)\n",
    "mec_ranks"
   ]
  },
  {
   "cell_type": "code",
   "execution_count": 20,
   "id": "a5b686ab",
   "metadata": {},
   "outputs": [],
   "source": [
    "counter = len(mec_ranks)\n",
    "dict_map_eq_centrality = {}"
   ]
  },
  {
   "cell_type": "code",
   "execution_count": 21,
   "id": "b76f2ba6",
   "metadata": {},
   "outputs": [],
   "source": [
    "for node in mec_ranks:\n",
    "    dict_map_eq_centrality[int(node)] = counter\n",
    "    counter = counter - 1"
   ]
  },
  {
   "cell_type": "code",
   "execution_count": 22,
   "id": "060cca68",
   "metadata": {},
   "outputs": [
    {
     "data": {
      "text/plain": [
       "{21: 198,\n",
       " 30: 197,\n",
       " 12: 196,\n",
       " 15: 195,\n",
       " 101: 194,\n",
       " 4: 193,\n",
       " 9: 192,\n",
       " 103: 191,\n",
       " 71: 190,\n",
       " 93: 189,\n",
       " 10: 188,\n",
       " 90: 187,\n",
       " 41: 186,\n",
       " 75: 185,\n",
       " 132: 184,\n",
       " 73: 183,\n",
       " 29: 182,\n",
       " 129: 181,\n",
       " 100: 180,\n",
       " 44: 179,\n",
       " 5: 178,\n",
       " 6: 177,\n",
       " 36: 176,\n",
       " 42: 175,\n",
       " 3: 174,\n",
       " 45: 173,\n",
       " 77: 172,\n",
       " 85: 171,\n",
       " 131: 170,\n",
       " 16: 169,\n",
       " 91: 168,\n",
       " 135: 167,\n",
       " 63: 166,\n",
       " 18: 165,\n",
       " 25: 164,\n",
       " 13: 163,\n",
       " 1: 162,\n",
       " 88: 161,\n",
       " 96: 160,\n",
       " 43: 159,\n",
       " 125: 158,\n",
       " 26: 157,\n",
       " 106: 156,\n",
       " 2: 155,\n",
       " 48: 154,\n",
       " 159: 153,\n",
       " 136: 152,\n",
       " 155: 151,\n",
       " 47: 150,\n",
       " 86: 149,\n",
       " 112: 148,\n",
       " 149: 147,\n",
       " 27: 146,\n",
       " 62: 145,\n",
       " 37: 144,\n",
       " 51: 143,\n",
       " 89: 142,\n",
       " 80: 141,\n",
       " 92: 140,\n",
       " 82: 139,\n",
       " 67: 138,\n",
       " 49: 137,\n",
       " 50: 136,\n",
       " 56: 135,\n",
       " 55: 134,\n",
       " 57: 133,\n",
       " 99: 132,\n",
       " 156: 131,\n",
       " 52: 130,\n",
       " 54: 129,\n",
       " 98: 128,\n",
       " 53: 127,\n",
       " 28: 126,\n",
       " 72: 125,\n",
       " 148: 124,\n",
       " 152: 123,\n",
       " 160: 122,\n",
       " 175: 121,\n",
       " 118: 120,\n",
       " 64: 119,\n",
       " 46: 118,\n",
       " 108: 117,\n",
       " 17: 116,\n",
       " 39: 115,\n",
       " 114: 114,\n",
       " 65: 113,\n",
       " 167: 112,\n",
       " 107: 111,\n",
       " 151: 110,\n",
       " 76: 109,\n",
       " 61: 108,\n",
       " 94: 107,\n",
       " 69: 106,\n",
       " 74: 105,\n",
       " 104: 104,\n",
       " 23: 103,\n",
       " 95: 102,\n",
       " 105: 101,\n",
       " 40: 100,\n",
       " 97: 99,\n",
       " 84: 98,\n",
       " 147: 97,\n",
       " 180: 96,\n",
       " 35: 95,\n",
       " 109: 94,\n",
       " 87: 93,\n",
       " 173: 92,\n",
       " 174: 91,\n",
       " 0: 90,\n",
       " 20: 89,\n",
       " 186: 88,\n",
       " 70: 87,\n",
       " 7: 86,\n",
       " 68: 85,\n",
       " 66: 84,\n",
       " 170: 83,\n",
       " 172: 82,\n",
       " 171: 81,\n",
       " 163: 80,\n",
       " 11: 79,\n",
       " 79: 78,\n",
       " 8: 77,\n",
       " 81: 76,\n",
       " 22: 75,\n",
       " 179: 74,\n",
       " 177: 73,\n",
       " 130: 72,\n",
       " 122: 71,\n",
       " 123: 70,\n",
       " 31: 69,\n",
       " 184: 68,\n",
       " 185: 67,\n",
       " 113: 66,\n",
       " 168: 65,\n",
       " 153: 64,\n",
       " 169: 63,\n",
       " 60: 62,\n",
       " 119: 61,\n",
       " 178: 60,\n",
       " 189: 59,\n",
       " 24: 58,\n",
       " 176: 57,\n",
       " 161: 56,\n",
       " 158: 55,\n",
       " 117: 54,\n",
       " 154: 53,\n",
       " 146: 52,\n",
       " 157: 51,\n",
       " 110: 50,\n",
       " 127: 49,\n",
       " 58: 48,\n",
       " 59: 47,\n",
       " 121: 46,\n",
       " 142: 45,\n",
       " 78: 44,\n",
       " 120: 43,\n",
       " 128: 42,\n",
       " 187: 41,\n",
       " 150: 40,\n",
       " 124: 39,\n",
       " 19: 38,\n",
       " 162: 37,\n",
       " 115: 36,\n",
       " 38: 35,\n",
       " 14: 34,\n",
       " 111: 33,\n",
       " 33: 32,\n",
       " 195: 31,\n",
       " 102: 30,\n",
       " 34: 29,\n",
       " 32: 28,\n",
       " 116: 27,\n",
       " 134: 26,\n",
       " 182: 25,\n",
       " 183: 24,\n",
       " 83: 23,\n",
       " 145: 22,\n",
       " 140: 21,\n",
       " 144: 20,\n",
       " 164: 19,\n",
       " 137: 18,\n",
       " 143: 17,\n",
       " 141: 16,\n",
       " 191: 15,\n",
       " 193: 14,\n",
       " 139: 13,\n",
       " 133: 12,\n",
       " 126: 11,\n",
       " 138: 10,\n",
       " 165: 9,\n",
       " 166: 8,\n",
       " 192: 7,\n",
       " 188: 6,\n",
       " 197: 5,\n",
       " 196: 4,\n",
       " 194: 3,\n",
       " 181: 2,\n",
       " 190: 1}"
      ]
     },
     "execution_count": 22,
     "metadata": {},
     "output_type": "execute_result"
    }
   ],
   "source": [
    "dict_map_eq_centrality"
   ]
  },
  {
   "cell_type": "code",
   "execution_count": 23,
   "id": "112f66b1",
   "metadata": {},
   "outputs": [],
   "source": [
    "# Write Centrality\n",
    "with open('./MapEquationCentralityResults/Misc-Jazz/dict_map_eq_centrality.txt', 'w') as f:\n",
    "    for key, value in dict_map_eq_centrality.items():\n",
    "        f.write('%s:%s\\n' % (key, value))"
   ]
  },
  {
   "cell_type": "code",
   "execution_count": 24,
   "id": "231b5408",
   "metadata": {},
   "outputs": [],
   "source": [
    "# Read Centrality\n",
    "dict_map_eq_centrality_read = dict()\n",
    "with open('./MapEquationCentralityResults/Misc-Jazz/dict_map_eq_centrality.txt') as raw_data:\n",
    "    for item in raw_data:\n",
    "        if ':' in item:\n",
    "            key,value = item.split(':', 1)\n",
    "            value = value.replace('\\n', '')\n",
    "            dict_map_eq_centrality_read[int(key)]=float(value)\n",
    "        else:\n",
    "            pass # deal with bad lines of text here"
   ]
  },
  {
   "cell_type": "code",
   "execution_count": 25,
   "id": "e70372fe",
   "metadata": {},
   "outputs": [
    {
     "data": {
      "text/plain": [
       "True"
      ]
     },
     "execution_count": 25,
     "metadata": {},
     "output_type": "execute_result"
    }
   ],
   "source": [
    "dict_map_eq_centrality_read == dict_map_eq_centrality"
   ]
  },
  {
   "cell_type": "code",
   "execution_count": null,
   "id": "175c55bf",
   "metadata": {},
   "outputs": [],
   "source": []
  },
  {
   "cell_type": "code",
   "execution_count": null,
   "id": "67a3b566",
   "metadata": {},
   "outputs": [],
   "source": []
  },
  {
   "cell_type": "code",
   "execution_count": null,
   "id": "032d8597",
   "metadata": {},
   "outputs": [],
   "source": []
  }
 ],
 "metadata": {
  "kernelspec": {
   "display_name": "Python 3",
   "language": "python",
   "name": "python3"
  },
  "language_info": {
   "codemirror_mode": {
    "name": "ipython",
    "version": 3
   },
   "file_extension": ".py",
   "mimetype": "text/x-python",
   "name": "python",
   "nbconvert_exporter": "python",
   "pygments_lexer": "ipython3",
   "version": "3.8.8"
  },
  "toc": {
   "base_numbering": 1,
   "nav_menu": {},
   "number_sections": true,
   "sideBar": true,
   "skip_h1_title": false,
   "title_cell": "Table of Contents",
   "title_sidebar": "Contents",
   "toc_cell": false,
   "toc_position": {
    "height": "calc(100% - 180px)",
    "left": "10px",
    "top": "150px",
    "width": "384px"
   },
   "toc_section_display": true,
   "toc_window_display": true
  }
 },
 "nbformat": 4,
 "nbformat_minor": 5
}
