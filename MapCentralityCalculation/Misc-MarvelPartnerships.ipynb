{
 "cells": [
  {
   "cell_type": "markdown",
   "id": "43d9a51e",
   "metadata": {},
   "source": [
    "# Real-world network"
   ]
  },
  {
   "cell_type": "code",
   "execution_count": 1,
   "id": "e61acc21",
   "metadata": {},
   "outputs": [],
   "source": [
    "import networkx as nx\n",
    "from networkx.algorithms.centrality import *\n",
    "import numpy as np\n",
    "import operator\n",
    "from analysis import *"
   ]
  },
  {
   "cell_type": "code",
   "execution_count": 2,
   "id": "b8c49150",
   "metadata": {},
   "outputs": [],
   "source": [
    "g = nx.read_gml(\"./RealNetworks/marvel_partnerships.gml\")"
   ]
  },
  {
   "cell_type": "code",
   "execution_count": 3,
   "id": "d819e1fe",
   "metadata": {
    "scrolled": true
   },
   "outputs": [
    {
     "name": "stdout",
     "output_type": "stream",
     "text": [
      "Graph with 181 nodes and 224 edges\n"
     ]
    },
    {
     "name": "stderr",
     "output_type": "stream",
     "text": [
      "<ipython-input-3-99dac2172e06>:1: DeprecationWarning: info is deprecated and will be removed in version 3.0.\n",
      "\n",
      "  print(nx.info(g))\n"
     ]
    }
   ],
   "source": [
    "print(nx.info(g))"
   ]
  },
  {
   "cell_type": "markdown",
   "id": "202c17db",
   "metadata": {},
   "source": [
    "# Check connectedness"
   ]
  },
  {
   "cell_type": "code",
   "execution_count": 4,
   "id": "31f16d8a",
   "metadata": {
    "scrolled": true
   },
   "outputs": [
    {
     "data": {
      "text/plain": [
       "True"
      ]
     },
     "execution_count": 4,
     "metadata": {},
     "output_type": "execute_result"
    }
   ],
   "source": [
    "nx.is_connected(g)"
   ]
  },
  {
   "cell_type": "code",
   "execution_count": 5,
   "id": "2de0864e",
   "metadata": {},
   "outputs": [
    {
     "data": {
      "text/plain": [
       "1"
      ]
     },
     "execution_count": 5,
     "metadata": {},
     "output_type": "execute_result"
    }
   ],
   "source": [
    "nx.number_connected_components(g)"
   ]
  },
  {
   "cell_type": "markdown",
   "id": "95a58fe2",
   "metadata": {},
   "source": [
    "# Get LCC if graph is disconnected"
   ]
  },
  {
   "cell_type": "raw",
   "id": "bb6cefd2",
   "metadata": {},
   "source": [
    "\"\"\"Step 5: If the graph after immunization is disconnected, get the largest component\"\"\"\n",
    "g_lcc = nx.Graph() \n",
    "\n",
    "if nx.is_connected(g) == False: \n",
    "    largestComponents = [g.subgraph(c).copy() for c in sorted(nx.connected_components(g), key=len, reverse=True)] \n",
    "    print(nx.info(largestComponents[0]))\n",
    "\n",
    "g_lcc=largestComponents[0] \n",
    "\n",
    "print(nx.info(g_lcc))\n",
    "\n",
    "g = g_lcc\n",
    "\n",
    "print(nx.info(g))"
   ]
  },
  {
   "cell_type": "markdown",
   "id": "effe9aef",
   "metadata": {},
   "source": [
    "# Relabel it all if nodes are strings\n",
    "- To be able to run all types of correlation together\n",
    "- But put the graph relabled in `g_relabled`"
   ]
  },
  {
   "cell_type": "code",
   "execution_count": 6,
   "id": "b6861f34",
   "metadata": {},
   "outputs": [],
   "source": [
    "from myTruss import mappingAndRelabeling"
   ]
  },
  {
   "cell_type": "code",
   "execution_count": 7,
   "id": "42774d3b",
   "metadata": {},
   "outputs": [],
   "source": [
    "g_relabled = mappingAndRelabeling(g)"
   ]
  },
  {
   "cell_type": "code",
   "execution_count": 8,
   "id": "7ba6d76c",
   "metadata": {},
   "outputs": [
    {
     "name": "stdout",
     "output_type": "stream",
     "text": [
      "Graph with 181 nodes and 224 edges\n",
      "Graph with 181 nodes and 224 edges\n"
     ]
    },
    {
     "name": "stderr",
     "output_type": "stream",
     "text": [
      "<ipython-input-8-632c4a2d19f6>:1: DeprecationWarning: info is deprecated and will be removed in version 3.0.\n",
      "\n",
      "  print(nx.info(g))\n",
      "<ipython-input-8-632c4a2d19f6>:2: DeprecationWarning: info is deprecated and will be removed in version 3.0.\n",
      "\n",
      "  print(nx.info(g_relabled))\n"
     ]
    }
   ],
   "source": [
    "print(nx.info(g))\n",
    "print(nx.info(g_relabled))"
   ]
  },
  {
   "cell_type": "code",
   "execution_count": 9,
   "id": "fbdfb76a",
   "metadata": {},
   "outputs": [],
   "source": [
    "g = g_relabled"
   ]
  },
  {
   "cell_type": "markdown",
   "id": "720c54c0",
   "metadata": {},
   "source": [
    "# Infer community structure with Louvain"
   ]
  },
  {
   "cell_type": "code",
   "execution_count": 10,
   "id": "ea12d7ab",
   "metadata": {
    "scrolled": true
   },
   "outputs": [
    {
     "data": {
      "text/plain": [
       "'2.8.4'"
      ]
     },
     "execution_count": 10,
     "metadata": {},
     "output_type": "execute_result"
    }
   ],
   "source": [
    "nx.__version__"
   ]
  },
  {
   "cell_type": "code",
   "execution_count": 11,
   "id": "d87ac148",
   "metadata": {},
   "outputs": [],
   "source": [
    "import pandas as pd\n",
    "from os.path  import exists\n",
    "import infomap as im"
   ]
  },
  {
   "cell_type": "code",
   "execution_count": 12,
   "id": "da91b8ea",
   "metadata": {},
   "outputs": [
    {
     "data": {
      "text/plain": [
       "'2.3.0'"
      ]
     },
     "execution_count": 12,
     "metadata": {},
     "output_type": "execute_result"
    }
   ],
   "source": [
    "im.__version__"
   ]
  },
  {
   "cell_type": "code",
   "execution_count": 13,
   "id": "e4e5b0ec",
   "metadata": {},
   "outputs": [],
   "source": [
    "G = g"
   ]
  },
  {
   "cell_type": "code",
   "execution_count": 14,
   "id": "8688890e",
   "metadata": {},
   "outputs": [
    {
     "name": "stderr",
     "output_type": "stream",
     "text": [
      "Progress |################################| 4/4\n",
      "\u001b[?25h"
     ]
    }
   ],
   "source": [
    "partition   = nx.algorithms.community.louvain_communities(G, seed = 0)\n",
    "partition_Q = nx.algorithms.community.modularity(G, partition)\n",
    "\n",
    "for seed in Bar(\"Progress\", check_tty = False).iter(range(1,5)):\n",
    "    partition_   = nx.algorithms.community.louvain_communities(G, seed = seed)\n",
    "    partition_Q_ = nx.algorithms.community.modularity(G, partition_)\n",
    "    \n",
    "    if partition_Q_ > partition_Q:\n",
    "        partition   = partition_\n",
    "        partition_Q = partition_Q_"
   ]
  },
  {
   "cell_type": "code",
   "execution_count": 15,
   "id": "9886be17",
   "metadata": {},
   "outputs": [],
   "source": [
    "communities = { community_ID : set(community) for (community_ID, community) in enumerate(partition, start = 1)}"
   ]
  },
  {
   "cell_type": "code",
   "execution_count": 16,
   "id": "1516539c",
   "metadata": {},
   "outputs": [],
   "source": [
    "community_assignments = dict()\n",
    "for (community_ID, community) in communities.items():\n",
    "    for node in community:\n",
    "        community_assignments[node] = community_ID"
   ]
  },
  {
   "cell_type": "code",
   "execution_count": 17,
   "id": "3c84a416",
   "metadata": {},
   "outputs": [],
   "source": [
    "results_file = \"./results/marvel_partnerships-modularity.csv\"\n",
    "\n",
    "if not exists(results_file):\n",
    "    # Map Equation Centrality\n",
    "    tree_file = \"./results/marvel_partnerships-temp.tree\"\n",
    "\n",
    "    # use Infomap to write a tree file that we change to reflect the Louvain partition\n",
    "    infomap = im.Infomap(silent = True, num_trials = 1, directed = False, two_level = True, seed = 42)\n",
    "    infomap.add_networkx_graph(G)\n",
    "    infomap.run()\n",
    "    infomap.write_tree(tree_file)\n",
    "    \n",
    "    infomap_tree = dict()\n",
    "\n",
    "    # read the tree file\n",
    "    with open(tree_file, \"r\") as fh:\n",
    "        for line in fh:\n",
    "            if not line.startswith(\"#\"):\n",
    "                _, flow, name, node_id = line.strip().split(\" \")\n",
    "                name = name[1:-1]\n",
    "                infomap_tree[int(name)] = (flow, node_id)\n",
    "    \n",
    "    # write the Louvain partition to an Infomap tree file\n",
    "    with open(\"./results/marvel_partnerships-modularity.tree\", \"w\") as fh:\n",
    "        for community_ID, community in enumerate(partition, start = 1):\n",
    "            for node_pos, node in enumerate(community, start = 1):\n",
    "                path = f\"{community_ID}:{node_pos}\"\n",
    "                flow, node_id = infomap_tree[node]\n",
    "                fh.write(f\"{path} {flow} \\\"{node}\\\" {node_id}\\n\")\n",
    "    \n",
    "    # Load the Louvain partition with Infomap and use unrecorded link teleportation\n",
    "    infomap2 = im.Infomap(\"--silent --no-infomap --cluster-data ./results/marvel_partnerships-modularity.tree\")\n",
    "    node_mapping = infomap2.add_networkx_graph(G)\n",
    "    infomap2.run()\n",
    "    \n",
    "    mec_ranks = [node for node, _score in sorted( [ (node_mapping[node.node_id], node.modular_centrality) for node in infomap2.iterLeafNodes() ]\n",
    "                                                 , key     = second\n",
    "                                                 , reverse = True\n",
    "                                                 )]\n",
    "\n",
    "    \n",
    "    index = []\n",
    "    for node in G.nodes:\n",
    "        index.append(node)\n",
    "\n",
    "    results = pd.DataFrame(index=index)\n",
    "\n",
    "    results[\"map equation centrality rank\"]       = toRanking(mec_ranks,        results.index)\n",
    "    results.to_csv(results_file)\n",
    "\n",
    "else:\n",
    "    results = pd.read_csv(results_file, index_col = 0)\n",
    "\n",
    "    mec_ranks         = mkRanks(results[\"map equation centrality rank\"])"
   ]
  },
  {
   "cell_type": "code",
   "execution_count": 18,
   "id": "af2edadd",
   "metadata": {},
   "outputs": [
    {
     "data": {
      "text/plain": [
       "181"
      ]
     },
     "execution_count": 18,
     "metadata": {},
     "output_type": "execute_result"
    }
   ],
   "source": [
    "len(mec_ranks)"
   ]
  },
  {
   "cell_type": "code",
   "execution_count": 19,
   "id": "3c809f7e",
   "metadata": {},
   "outputs": [
    {
     "data": {
      "text/plain": [
       "[5,\n",
       " 23,\n",
       " 7,\n",
       " 66,\n",
       " 58,\n",
       " 25,\n",
       " 14,\n",
       " 61,\n",
       " 2,\n",
       " 112,\n",
       " 85,\n",
       " 79,\n",
       " 88,\n",
       " 77,\n",
       " 72,\n",
       " 97,\n",
       " 98,\n",
       " 99,\n",
       " 101,\n",
       " 3,\n",
       " 19,\n",
       " 21,\n",
       " 105,\n",
       " 107,\n",
       " 30,\n",
       " 86,\n",
       " 163,\n",
       " 27,\n",
       " 155,\n",
       " 104,\n",
       " 48,\n",
       " 63,\n",
       " 100,\n",
       " 4,\n",
       " 1,\n",
       " 137,\n",
       " 132,\n",
       " 87,\n",
       " 45,\n",
       " 67,\n",
       " 68,\n",
       " 154,\n",
       " 76,\n",
       " 32,\n",
       " 11,\n",
       " 12,\n",
       " 150,\n",
       " 16,\n",
       " 127,\n",
       " 41,\n",
       " 43,\n",
       " 40,\n",
       " 158,\n",
       " 160,\n",
       " 124,\n",
       " 144,\n",
       " 145,\n",
       " 62,\n",
       " 20,\n",
       " 56,\n",
       " 130,\n",
       " 28,\n",
       " 37,\n",
       " 116,\n",
       " 65,\n",
       " 89,\n",
       " 44,\n",
       " 46,\n",
       " 17,\n",
       " 18,\n",
       " 153,\n",
       " 75,\n",
       " 13,\n",
       " 90,\n",
       " 128,\n",
       " 10,\n",
       " 80,\n",
       " 59,\n",
       " 6,\n",
       " 8,\n",
       " 147,\n",
       " 148,\n",
       " 94,\n",
       " 96,\n",
       " 168,\n",
       " 119,\n",
       " 70,\n",
       " 42,\n",
       " 141,\n",
       " 164,\n",
       " 38,\n",
       " 50,\n",
       " 113,\n",
       " 114,\n",
       " 115,\n",
       " 117,\n",
       " 35,\n",
       " 171,\n",
       " 172,\n",
       " 123,\n",
       " 125,\n",
       " 64,\n",
       " 143,\n",
       " 82,\n",
       " 51,\n",
       " 22,\n",
       " 92,\n",
       " 93,\n",
       " 106,\n",
       " 109,\n",
       " 53,\n",
       " 161,\n",
       " 174,\n",
       " 133,\n",
       " 134,\n",
       " 140,\n",
       " 78,\n",
       " 162,\n",
       " 165,\n",
       " 122,\n",
       " 138,\n",
       " 139,\n",
       " 26,\n",
       " 69,\n",
       " 166,\n",
       " 135,\n",
       " 73,\n",
       " 74,\n",
       " 151,\n",
       " 152,\n",
       " 91,\n",
       " 31,\n",
       " 129,\n",
       " 9,\n",
       " 15,\n",
       " 81,\n",
       " 157,\n",
       " 159,\n",
       " 103,\n",
       " 167,\n",
       " 173,\n",
       " 60,\n",
       " 156,\n",
       " 95,\n",
       " 33,\n",
       " 170,\n",
       " 180,\n",
       " 120,\n",
       " 175,\n",
       " 176,\n",
       " 178,\n",
       " 179,\n",
       " 47,\n",
       " 118,\n",
       " 121,\n",
       " 39,\n",
       " 49,\n",
       " 57,\n",
       " 142,\n",
       " 34,\n",
       " 102,\n",
       " 177,\n",
       " 146,\n",
       " 24,\n",
       " 111,\n",
       " 149,\n",
       " 52,\n",
       " 83,\n",
       " 84,\n",
       " 108,\n",
       " 110,\n",
       " 54,\n",
       " 0,\n",
       " 131,\n",
       " 55,\n",
       " 29,\n",
       " 36,\n",
       " 71,\n",
       " 136,\n",
       " 169,\n",
       " 126]"
      ]
     },
     "execution_count": 19,
     "metadata": {},
     "output_type": "execute_result"
    }
   ],
   "source": [
    "# node 107 has rank 0 (i.e. 1)\n",
    "# node 1684 has rank 1 (i.e. 2)\n",
    "# ...\n",
    "# node 0 has rank 4 (i.e. 5)\n",
    "mec_ranks"
   ]
  },
  {
   "cell_type": "code",
   "execution_count": 20,
   "id": "a5b686ab",
   "metadata": {},
   "outputs": [],
   "source": [
    "counter = len(mec_ranks)\n",
    "dict_map_eq_centrality = {}"
   ]
  },
  {
   "cell_type": "code",
   "execution_count": 21,
   "id": "b76f2ba6",
   "metadata": {},
   "outputs": [],
   "source": [
    "for node in mec_ranks:\n",
    "    dict_map_eq_centrality[int(node)] = counter\n",
    "    counter = counter - 1"
   ]
  },
  {
   "cell_type": "code",
   "execution_count": 22,
   "id": "060cca68",
   "metadata": {},
   "outputs": [
    {
     "data": {
      "text/plain": [
       "{5: 181,\n",
       " 23: 180,\n",
       " 7: 179,\n",
       " 66: 178,\n",
       " 58: 177,\n",
       " 25: 176,\n",
       " 14: 175,\n",
       " 61: 174,\n",
       " 2: 173,\n",
       " 112: 172,\n",
       " 85: 171,\n",
       " 79: 170,\n",
       " 88: 169,\n",
       " 77: 168,\n",
       " 72: 167,\n",
       " 97: 166,\n",
       " 98: 165,\n",
       " 99: 164,\n",
       " 101: 163,\n",
       " 3: 162,\n",
       " 19: 161,\n",
       " 21: 160,\n",
       " 105: 159,\n",
       " 107: 158,\n",
       " 30: 157,\n",
       " 86: 156,\n",
       " 163: 155,\n",
       " 27: 154,\n",
       " 155: 153,\n",
       " 104: 152,\n",
       " 48: 151,\n",
       " 63: 150,\n",
       " 100: 149,\n",
       " 4: 148,\n",
       " 1: 147,\n",
       " 137: 146,\n",
       " 132: 145,\n",
       " 87: 144,\n",
       " 45: 143,\n",
       " 67: 142,\n",
       " 68: 141,\n",
       " 154: 140,\n",
       " 76: 139,\n",
       " 32: 138,\n",
       " 11: 137,\n",
       " 12: 136,\n",
       " 150: 135,\n",
       " 16: 134,\n",
       " 127: 133,\n",
       " 41: 132,\n",
       " 43: 131,\n",
       " 40: 130,\n",
       " 158: 129,\n",
       " 160: 128,\n",
       " 124: 127,\n",
       " 144: 126,\n",
       " 145: 125,\n",
       " 62: 124,\n",
       " 20: 123,\n",
       " 56: 122,\n",
       " 130: 121,\n",
       " 28: 120,\n",
       " 37: 119,\n",
       " 116: 118,\n",
       " 65: 117,\n",
       " 89: 116,\n",
       " 44: 115,\n",
       " 46: 114,\n",
       " 17: 113,\n",
       " 18: 112,\n",
       " 153: 111,\n",
       " 75: 110,\n",
       " 13: 109,\n",
       " 90: 108,\n",
       " 128: 107,\n",
       " 10: 106,\n",
       " 80: 105,\n",
       " 59: 104,\n",
       " 6: 103,\n",
       " 8: 102,\n",
       " 147: 101,\n",
       " 148: 100,\n",
       " 94: 99,\n",
       " 96: 98,\n",
       " 168: 97,\n",
       " 119: 96,\n",
       " 70: 95,\n",
       " 42: 94,\n",
       " 141: 93,\n",
       " 164: 92,\n",
       " 38: 91,\n",
       " 50: 90,\n",
       " 113: 89,\n",
       " 114: 88,\n",
       " 115: 87,\n",
       " 117: 86,\n",
       " 35: 85,\n",
       " 171: 84,\n",
       " 172: 83,\n",
       " 123: 82,\n",
       " 125: 81,\n",
       " 64: 80,\n",
       " 143: 79,\n",
       " 82: 78,\n",
       " 51: 77,\n",
       " 22: 76,\n",
       " 92: 75,\n",
       " 93: 74,\n",
       " 106: 73,\n",
       " 109: 72,\n",
       " 53: 71,\n",
       " 161: 70,\n",
       " 174: 69,\n",
       " 133: 68,\n",
       " 134: 67,\n",
       " 140: 66,\n",
       " 78: 65,\n",
       " 162: 64,\n",
       " 165: 63,\n",
       " 122: 62,\n",
       " 138: 61,\n",
       " 139: 60,\n",
       " 26: 59,\n",
       " 69: 58,\n",
       " 166: 57,\n",
       " 135: 56,\n",
       " 73: 55,\n",
       " 74: 54,\n",
       " 151: 53,\n",
       " 152: 52,\n",
       " 91: 51,\n",
       " 31: 50,\n",
       " 129: 49,\n",
       " 9: 48,\n",
       " 15: 47,\n",
       " 81: 46,\n",
       " 157: 45,\n",
       " 159: 44,\n",
       " 103: 43,\n",
       " 167: 42,\n",
       " 173: 41,\n",
       " 60: 40,\n",
       " 156: 39,\n",
       " 95: 38,\n",
       " 33: 37,\n",
       " 170: 36,\n",
       " 180: 35,\n",
       " 120: 34,\n",
       " 175: 33,\n",
       " 176: 32,\n",
       " 178: 31,\n",
       " 179: 30,\n",
       " 47: 29,\n",
       " 118: 28,\n",
       " 121: 27,\n",
       " 39: 26,\n",
       " 49: 25,\n",
       " 57: 24,\n",
       " 142: 23,\n",
       " 34: 22,\n",
       " 102: 21,\n",
       " 177: 20,\n",
       " 146: 19,\n",
       " 24: 18,\n",
       " 111: 17,\n",
       " 149: 16,\n",
       " 52: 15,\n",
       " 83: 14,\n",
       " 84: 13,\n",
       " 108: 12,\n",
       " 110: 11,\n",
       " 54: 10,\n",
       " 0: 9,\n",
       " 131: 8,\n",
       " 55: 7,\n",
       " 29: 6,\n",
       " 36: 5,\n",
       " 71: 4,\n",
       " 136: 3,\n",
       " 169: 2,\n",
       " 126: 1}"
      ]
     },
     "execution_count": 22,
     "metadata": {},
     "output_type": "execute_result"
    }
   ],
   "source": [
    "dict_map_eq_centrality"
   ]
  },
  {
   "cell_type": "code",
   "execution_count": 23,
   "id": "112f66b1",
   "metadata": {},
   "outputs": [],
   "source": [
    "# Write Centrality\n",
    "with open('./MapEquationCentralityResults/Misc-MarvelPartnerships/dict_map_eq_centrality.txt', 'w') as f:\n",
    "    for key, value in dict_map_eq_centrality.items():\n",
    "        f.write('%s:%s\\n' % (key, value))"
   ]
  },
  {
   "cell_type": "code",
   "execution_count": 24,
   "id": "231b5408",
   "metadata": {},
   "outputs": [],
   "source": [
    "# Read Centrality\n",
    "dict_map_eq_centrality_read = dict()\n",
    "with open('./MapEquationCentralityResults/Misc-MarvelPartnerships/dict_map_eq_centrality.txt') as raw_data:\n",
    "    for item in raw_data:\n",
    "        if ':' in item:\n",
    "            key,value = item.split(':', 1)\n",
    "            value = value.replace('\\n', '')\n",
    "            dict_map_eq_centrality_read[int(key)]=float(value)\n",
    "        else:\n",
    "            pass # deal with bad lines of text here"
   ]
  },
  {
   "cell_type": "code",
   "execution_count": 25,
   "id": "e70372fe",
   "metadata": {},
   "outputs": [
    {
     "data": {
      "text/plain": [
       "True"
      ]
     },
     "execution_count": 25,
     "metadata": {},
     "output_type": "execute_result"
    }
   ],
   "source": [
    "dict_map_eq_centrality_read == dict_map_eq_centrality"
   ]
  },
  {
   "cell_type": "code",
   "execution_count": null,
   "id": "175c55bf",
   "metadata": {},
   "outputs": [],
   "source": []
  },
  {
   "cell_type": "code",
   "execution_count": null,
   "id": "67a3b566",
   "metadata": {},
   "outputs": [],
   "source": []
  },
  {
   "cell_type": "code",
   "execution_count": null,
   "id": "032d8597",
   "metadata": {},
   "outputs": [],
   "source": []
  }
 ],
 "metadata": {
  "kernelspec": {
   "display_name": "Python 3",
   "language": "python",
   "name": "python3"
  },
  "language_info": {
   "codemirror_mode": {
    "name": "ipython",
    "version": 3
   },
   "file_extension": ".py",
   "mimetype": "text/x-python",
   "name": "python",
   "nbconvert_exporter": "python",
   "pygments_lexer": "ipython3",
   "version": "3.8.8"
  },
  "toc": {
   "base_numbering": 1,
   "nav_menu": {},
   "number_sections": true,
   "sideBar": true,
   "skip_h1_title": false,
   "title_cell": "Table of Contents",
   "title_sidebar": "Contents",
   "toc_cell": false,
   "toc_position": {
    "height": "calc(100% - 180px)",
    "left": "10px",
    "top": "150px",
    "width": "384px"
   },
   "toc_section_display": true,
   "toc_window_display": true
  }
 },
 "nbformat": 4,
 "nbformat_minor": 5
}
