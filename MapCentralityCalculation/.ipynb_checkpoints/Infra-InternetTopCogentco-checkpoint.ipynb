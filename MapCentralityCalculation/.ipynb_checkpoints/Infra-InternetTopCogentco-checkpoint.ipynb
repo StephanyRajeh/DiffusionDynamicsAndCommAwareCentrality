{
 "cells": [
  {
   "cell_type": "markdown",
   "id": "43d9a51e",
   "metadata": {},
   "source": [
    "# Real-world network"
   ]
  },
  {
   "cell_type": "code",
   "execution_count": 1,
   "id": "e61acc21",
   "metadata": {},
   "outputs": [],
   "source": [
    "import networkx as nx\n",
    "from networkx.algorithms.centrality import *\n",
    "import numpy as np\n",
    "import operator\n",
    "from analysis import *"
   ]
  },
  {
   "cell_type": "code",
   "execution_count": 2,
   "id": "b8c49150",
   "metadata": {},
   "outputs": [],
   "source": [
    "g = nx.read_gml(\"./RealNetworks/internet_topology_cogentco.gml\")"
   ]
  },
  {
   "cell_type": "code",
   "execution_count": 3,
   "id": "d819e1fe",
   "metadata": {
    "scrolled": true
   },
   "outputs": [
    {
     "name": "stdout",
     "output_type": "stream",
     "text": [
      "Graph with 197 nodes and 243 edges\n"
     ]
    },
    {
     "name": "stderr",
     "output_type": "stream",
     "text": [
      "<ipython-input-3-99dac2172e06>:1: DeprecationWarning: info is deprecated and will be removed in version 3.0.\n",
      "\n",
      "  print(nx.info(g))\n"
     ]
    }
   ],
   "source": [
    "print(nx.info(g))"
   ]
  },
  {
   "cell_type": "markdown",
   "id": "202c17db",
   "metadata": {},
   "source": [
    "# Check connectedness"
   ]
  },
  {
   "cell_type": "code",
   "execution_count": 4,
   "id": "31f16d8a",
   "metadata": {
    "scrolled": true
   },
   "outputs": [
    {
     "data": {
      "text/plain": [
       "True"
      ]
     },
     "execution_count": 4,
     "metadata": {},
     "output_type": "execute_result"
    }
   ],
   "source": [
    "nx.is_connected(g)"
   ]
  },
  {
   "cell_type": "code",
   "execution_count": 5,
   "id": "2de0864e",
   "metadata": {},
   "outputs": [
    {
     "data": {
      "text/plain": [
       "1"
      ]
     },
     "execution_count": 5,
     "metadata": {},
     "output_type": "execute_result"
    }
   ],
   "source": [
    "nx.number_connected_components(g)"
   ]
  },
  {
   "cell_type": "markdown",
   "id": "95a58fe2",
   "metadata": {},
   "source": [
    "# Get LCC if graph is disconnected"
   ]
  },
  {
   "cell_type": "raw",
   "id": "bb6cefd2",
   "metadata": {},
   "source": [
    "\"\"\"Step 5: If the graph after immunization is disconnected, get the largest component\"\"\"\n",
    "g_lcc = nx.Graph() \n",
    "\n",
    "if nx.is_connected(g) == False: \n",
    "    largestComponents = [g.subgraph(c).copy() for c in sorted(nx.connected_components(g), key=len, reverse=True)] \n",
    "    print(nx.info(largestComponents[0]))\n",
    "\n",
    "g_lcc=largestComponents[0] \n",
    "\n",
    "print(nx.info(g_lcc))\n",
    "\n",
    "g = g_lcc\n",
    "\n",
    "print(nx.info(g))"
   ]
  },
  {
   "cell_type": "markdown",
   "id": "effe9aef",
   "metadata": {},
   "source": [
    "# Relabel it all if nodes are strings\n",
    "- To be able to run all types of correlation together\n",
    "- But put the graph relabled in `g_relabled`"
   ]
  },
  {
   "cell_type": "code",
   "execution_count": 6,
   "id": "b6861f34",
   "metadata": {},
   "outputs": [],
   "source": [
    "from myTruss import mappingAndRelabeling"
   ]
  },
  {
   "cell_type": "code",
   "execution_count": 7,
   "id": "42774d3b",
   "metadata": {},
   "outputs": [],
   "source": [
    "g_relabled = mappingAndRelabeling(g)"
   ]
  },
  {
   "cell_type": "code",
   "execution_count": 8,
   "id": "7ba6d76c",
   "metadata": {},
   "outputs": [
    {
     "name": "stdout",
     "output_type": "stream",
     "text": [
      "Graph with 197 nodes and 243 edges\n",
      "Graph with 197 nodes and 243 edges\n"
     ]
    },
    {
     "name": "stderr",
     "output_type": "stream",
     "text": [
      "<ipython-input-8-632c4a2d19f6>:1: DeprecationWarning: info is deprecated and will be removed in version 3.0.\n",
      "\n",
      "  print(nx.info(g))\n",
      "<ipython-input-8-632c4a2d19f6>:2: DeprecationWarning: info is deprecated and will be removed in version 3.0.\n",
      "\n",
      "  print(nx.info(g_relabled))\n"
     ]
    }
   ],
   "source": [
    "print(nx.info(g))\n",
    "print(nx.info(g_relabled))"
   ]
  },
  {
   "cell_type": "code",
   "execution_count": 9,
   "id": "fbdfb76a",
   "metadata": {},
   "outputs": [],
   "source": [
    "g = g_relabled"
   ]
  },
  {
   "cell_type": "markdown",
   "id": "720c54c0",
   "metadata": {},
   "source": [
    "# Infer community structure with Louvain"
   ]
  },
  {
   "cell_type": "code",
   "execution_count": 10,
   "id": "ea12d7ab",
   "metadata": {
    "scrolled": true
   },
   "outputs": [
    {
     "data": {
      "text/plain": [
       "'2.8.4'"
      ]
     },
     "execution_count": 10,
     "metadata": {},
     "output_type": "execute_result"
    }
   ],
   "source": [
    "nx.__version__"
   ]
  },
  {
   "cell_type": "code",
   "execution_count": 11,
   "id": "d87ac148",
   "metadata": {},
   "outputs": [],
   "source": [
    "import pandas as pd\n",
    "from os.path  import exists\n",
    "import infomap as im"
   ]
  },
  {
   "cell_type": "code",
   "execution_count": 12,
   "id": "da91b8ea",
   "metadata": {},
   "outputs": [
    {
     "data": {
      "text/plain": [
       "'2.3.0'"
      ]
     },
     "execution_count": 12,
     "metadata": {},
     "output_type": "execute_result"
    }
   ],
   "source": [
    "im.__version__"
   ]
  },
  {
   "cell_type": "code",
   "execution_count": 13,
   "id": "e4e5b0ec",
   "metadata": {},
   "outputs": [],
   "source": [
    "G = g"
   ]
  },
  {
   "cell_type": "code",
   "execution_count": 14,
   "id": "8688890e",
   "metadata": {},
   "outputs": [
    {
     "name": "stderr",
     "output_type": "stream",
     "text": [
      "Progress |################################| 4/4\n",
      "\u001b[?25h"
     ]
    }
   ],
   "source": [
    "partition   = nx.algorithms.community.louvain_communities(G, seed = 0)\n",
    "partition_Q = nx.algorithms.community.modularity(G, partition)\n",
    "\n",
    "for seed in Bar(\"Progress\", check_tty = False).iter(range(1,5)):\n",
    "    partition_   = nx.algorithms.community.louvain_communities(G, seed = seed)\n",
    "    partition_Q_ = nx.algorithms.community.modularity(G, partition_)\n",
    "    \n",
    "    if partition_Q_ > partition_Q:\n",
    "        partition   = partition_\n",
    "        partition_Q = partition_Q_"
   ]
  },
  {
   "cell_type": "code",
   "execution_count": 15,
   "id": "9886be17",
   "metadata": {},
   "outputs": [],
   "source": [
    "communities = { community_ID : set(community) for (community_ID, community) in enumerate(partition, start = 1)}"
   ]
  },
  {
   "cell_type": "code",
   "execution_count": 16,
   "id": "1516539c",
   "metadata": {},
   "outputs": [],
   "source": [
    "community_assignments = dict()\n",
    "for (community_ID, community) in communities.items():\n",
    "    for node in community:\n",
    "        community_assignments[node] = community_ID"
   ]
  },
  {
   "cell_type": "code",
   "execution_count": 17,
   "id": "3c84a416",
   "metadata": {},
   "outputs": [],
   "source": [
    "results_file = \"./results/internet_topology_cogentco-modularity.csv\"\n",
    "\n",
    "if not exists(results_file):\n",
    "    # Map Equation Centrality\n",
    "    tree_file = \"./results/internet_topology_cogentco-temp.tree\"\n",
    "\n",
    "    # use Infomap to write a tree file that we change to reflect the Louvain partition\n",
    "    infomap = im.Infomap(silent = True, num_trials = 1, directed = False, two_level = True, seed = 42)\n",
    "    infomap.add_networkx_graph(G)\n",
    "    infomap.run()\n",
    "    infomap.write_tree(tree_file)\n",
    "    \n",
    "    infomap_tree = dict()\n",
    "\n",
    "    # read the tree file\n",
    "    with open(tree_file, \"r\") as fh:\n",
    "        for line in fh:\n",
    "            if not line.startswith(\"#\"):\n",
    "                _, flow, name, node_id = line.strip().split(\" \")\n",
    "                name = name[1:-1]\n",
    "                infomap_tree[int(name)] = (flow, node_id)\n",
    "    \n",
    "    # write the Louvain partition to an Infomap tree file\n",
    "    with open(\"./results/internet_topology_cogentco-modularity.tree\", \"w\") as fh:\n",
    "        for community_ID, community in enumerate(partition, start = 1):\n",
    "            for node_pos, node in enumerate(community, start = 1):\n",
    "                path = f\"{community_ID}:{node_pos}\"\n",
    "                flow, node_id = infomap_tree[node]\n",
    "                fh.write(f\"{path} {flow} \\\"{node}\\\" {node_id}\\n\")\n",
    "    \n",
    "    # Load the Louvain partition with Infomap and use unrecorded link teleportation\n",
    "    infomap2 = im.Infomap(\"--silent --no-infomap --cluster-data ./results/internet_topology_cogentco-modularity.tree\")\n",
    "    node_mapping = infomap2.add_networkx_graph(G)\n",
    "    infomap2.run()\n",
    "    \n",
    "    mec_ranks = [node for node, _score in sorted( [ (node_mapping[node.node_id], node.modular_centrality) for node in infomap2.iterLeafNodes() ]\n",
    "                                                 , key     = second\n",
    "                                                 , reverse = True\n",
    "                                                 )]\n",
    "\n",
    "    \n",
    "    index = []\n",
    "    for node in G.nodes:\n",
    "        index.append(node)\n",
    "\n",
    "    results = pd.DataFrame(index=index)\n",
    "\n",
    "    results[\"map equation centrality rank\"]       = toRanking(mec_ranks,        results.index)\n",
    "    results.to_csv(results_file)\n",
    "\n",
    "else:\n",
    "    results = pd.read_csv(results_file, index_col = 0)\n",
    "\n",
    "    mec_ranks         = mkRanks(results[\"map equation centrality rank\"])"
   ]
  },
  {
   "cell_type": "code",
   "execution_count": 18,
   "id": "af2edadd",
   "metadata": {},
   "outputs": [
    {
     "data": {
      "text/plain": [
       "197"
      ]
     },
     "execution_count": 18,
     "metadata": {},
     "output_type": "execute_result"
    }
   ],
   "source": [
    "len(mec_ranks)"
   ]
  },
  {
   "cell_type": "code",
   "execution_count": 19,
   "id": "3c809f7e",
   "metadata": {},
   "outputs": [
    {
     "data": {
      "text/plain": [
       "[103,\n",
       " 81,\n",
       " 56,\n",
       " 10,\n",
       " 3,\n",
       " 4,\n",
       " 175,\n",
       " 128,\n",
       " 64,\n",
       " 77,\n",
       " 78,\n",
       " 182,\n",
       " 63,\n",
       " 112,\n",
       " 41,\n",
       " 34,\n",
       " 37,\n",
       " 23,\n",
       " 30,\n",
       " 111,\n",
       " 129,\n",
       " 12,\n",
       " 13,\n",
       " 14,\n",
       " 17,\n",
       " 18,\n",
       " 151,\n",
       " 166,\n",
       " 167,\n",
       " 125,\n",
       " 72,\n",
       " 74,\n",
       " 79,\n",
       " 80,\n",
       " 173,\n",
       " 60,\n",
       " 104,\n",
       " 110,\n",
       " 176,\n",
       " 184,\n",
       " 188,\n",
       " 47,\n",
       " 48,\n",
       " 49,\n",
       " 51,\n",
       " 53,\n",
       " 96,\n",
       " 97,\n",
       " 98,\n",
       " 36,\n",
       " 115,\n",
       " 117,\n",
       " 120,\n",
       " 91,\n",
       " 94,\n",
       " 95,\n",
       " 1,\n",
       " 7,\n",
       " 20,\n",
       " 136,\n",
       " 143,\n",
       " 144,\n",
       " 145,\n",
       " 92,\n",
       " 31,\n",
       " 70,\n",
       " 67,\n",
       " 66,\n",
       " 16,\n",
       " 19,\n",
       " 100,\n",
       " 24,\n",
       " 29,\n",
       " 178,\n",
       " 121,\n",
       " 26,\n",
       " 27,\n",
       " 25,\n",
       " 160,\n",
       " 90,\n",
       " 132,\n",
       " 134,\n",
       " 135,\n",
       " 11,\n",
       " 15,\n",
       " 148,\n",
       " 149,\n",
       " 150,\n",
       " 169,\n",
       " 170,\n",
       " 126,\n",
       " 127,\n",
       " 71,\n",
       " 73,\n",
       " 76,\n",
       " 180,\n",
       " 181,\n",
       " 59,\n",
       " 61,\n",
       " 8,\n",
       " 9,\n",
       " 75,\n",
       " 102,\n",
       " 105,\n",
       " 106,\n",
       " 107,\n",
       " 108,\n",
       " 109,\n",
       " 113,\n",
       " 186,\n",
       " 187,\n",
       " 131,\n",
       " 82,\n",
       " 83,\n",
       " 84,\n",
       " 85,\n",
       " 86,\n",
       " 87,\n",
       " 88,\n",
       " 38,\n",
       " 39,\n",
       " 40,\n",
       " 42,\n",
       " 43,\n",
       " 45,\n",
       " 46,\n",
       " 50,\n",
       " 114,\n",
       " 52,\n",
       " 35,\n",
       " 118,\n",
       " 89,\n",
       " 0,\n",
       " 2,\n",
       " 5,\n",
       " 6,\n",
       " 152,\n",
       " 153,\n",
       " 154,\n",
       " 155,\n",
       " 156,\n",
       " 157,\n",
       " 163,\n",
       " 164,\n",
       " 137,\n",
       " 139,\n",
       " 140,\n",
       " 141,\n",
       " 142,\n",
       " 146,\n",
       " 147,\n",
       " 65,\n",
       " 196,\n",
       " 133,\n",
       " 165,\n",
       " 69,\n",
       " 171,\n",
       " 68,\n",
       " 185,\n",
       " 190,\n",
       " 191,\n",
       " 99,\n",
       " 101,\n",
       " 21,\n",
       " 22,\n",
       " 28,\n",
       " 174,\n",
       " 119,\n",
       " 122,\n",
       " 62,\n",
       " 33,\n",
       " 54,\n",
       " 159,\n",
       " 93,\n",
       " 158,\n",
       " 130,\n",
       " 168,\n",
       " 124,\n",
       " 172,\n",
       " 183,\n",
       " 189,\n",
       " 44,\n",
       " 116,\n",
       " 194,\n",
       " 192,\n",
       " 138,\n",
       " 193,\n",
       " 195,\n",
       " 32,\n",
       " 177,\n",
       " 179,\n",
       " 123,\n",
       " 58,\n",
       " 55,\n",
       " 57,\n",
       " 161,\n",
       " 162]"
      ]
     },
     "execution_count": 19,
     "metadata": {},
     "output_type": "execute_result"
    }
   ],
   "source": [
    "# node 107 has rank 0 (i.e. 1)\n",
    "# node 1684 has rank 1 (i.e. 2)\n",
    "# ...\n",
    "# node 0 has rank 4 (i.e. 5)\n",
    "mec_ranks"
   ]
  },
  {
   "cell_type": "code",
   "execution_count": 20,
   "id": "a5b686ab",
   "metadata": {},
   "outputs": [],
   "source": [
    "counter = len(mec_ranks)\n",
    "dict_map_eq_centrality = {}"
   ]
  },
  {
   "cell_type": "code",
   "execution_count": 21,
   "id": "b76f2ba6",
   "metadata": {},
   "outputs": [],
   "source": [
    "for node in mec_ranks:\n",
    "    dict_map_eq_centrality[int(node)] = counter\n",
    "    counter = counter - 1"
   ]
  },
  {
   "cell_type": "code",
   "execution_count": 22,
   "id": "060cca68",
   "metadata": {
    "scrolled": true
   },
   "outputs": [
    {
     "data": {
      "text/plain": [
       "{103: 197,\n",
       " 81: 196,\n",
       " 56: 195,\n",
       " 10: 194,\n",
       " 3: 193,\n",
       " 4: 192,\n",
       " 175: 191,\n",
       " 128: 190,\n",
       " 64: 189,\n",
       " 77: 188,\n",
       " 78: 187,\n",
       " 182: 186,\n",
       " 63: 185,\n",
       " 112: 184,\n",
       " 41: 183,\n",
       " 34: 182,\n",
       " 37: 181,\n",
       " 23: 180,\n",
       " 30: 179,\n",
       " 111: 178,\n",
       " 129: 177,\n",
       " 12: 176,\n",
       " 13: 175,\n",
       " 14: 174,\n",
       " 17: 173,\n",
       " 18: 172,\n",
       " 151: 171,\n",
       " 166: 170,\n",
       " 167: 169,\n",
       " 125: 168,\n",
       " 72: 167,\n",
       " 74: 166,\n",
       " 79: 165,\n",
       " 80: 164,\n",
       " 173: 163,\n",
       " 60: 162,\n",
       " 104: 161,\n",
       " 110: 160,\n",
       " 176: 159,\n",
       " 184: 158,\n",
       " 188: 157,\n",
       " 47: 156,\n",
       " 48: 155,\n",
       " 49: 154,\n",
       " 51: 153,\n",
       " 53: 152,\n",
       " 96: 151,\n",
       " 97: 150,\n",
       " 98: 149,\n",
       " 36: 148,\n",
       " 115: 147,\n",
       " 117: 146,\n",
       " 120: 145,\n",
       " 91: 144,\n",
       " 94: 143,\n",
       " 95: 142,\n",
       " 1: 141,\n",
       " 7: 140,\n",
       " 20: 139,\n",
       " 136: 138,\n",
       " 143: 137,\n",
       " 144: 136,\n",
       " 145: 135,\n",
       " 92: 134,\n",
       " 31: 133,\n",
       " 70: 132,\n",
       " 67: 131,\n",
       " 66: 130,\n",
       " 16: 129,\n",
       " 19: 128,\n",
       " 100: 127,\n",
       " 24: 126,\n",
       " 29: 125,\n",
       " 178: 124,\n",
       " 121: 123,\n",
       " 26: 122,\n",
       " 27: 121,\n",
       " 25: 120,\n",
       " 160: 119,\n",
       " 90: 118,\n",
       " 132: 117,\n",
       " 134: 116,\n",
       " 135: 115,\n",
       " 11: 114,\n",
       " 15: 113,\n",
       " 148: 112,\n",
       " 149: 111,\n",
       " 150: 110,\n",
       " 169: 109,\n",
       " 170: 108,\n",
       " 126: 107,\n",
       " 127: 106,\n",
       " 71: 105,\n",
       " 73: 104,\n",
       " 76: 103,\n",
       " 180: 102,\n",
       " 181: 101,\n",
       " 59: 100,\n",
       " 61: 99,\n",
       " 8: 98,\n",
       " 9: 97,\n",
       " 75: 96,\n",
       " 102: 95,\n",
       " 105: 94,\n",
       " 106: 93,\n",
       " 107: 92,\n",
       " 108: 91,\n",
       " 109: 90,\n",
       " 113: 89,\n",
       " 186: 88,\n",
       " 187: 87,\n",
       " 131: 86,\n",
       " 82: 85,\n",
       " 83: 84,\n",
       " 84: 83,\n",
       " 85: 82,\n",
       " 86: 81,\n",
       " 87: 80,\n",
       " 88: 79,\n",
       " 38: 78,\n",
       " 39: 77,\n",
       " 40: 76,\n",
       " 42: 75,\n",
       " 43: 74,\n",
       " 45: 73,\n",
       " 46: 72,\n",
       " 50: 71,\n",
       " 114: 70,\n",
       " 52: 69,\n",
       " 35: 68,\n",
       " 118: 67,\n",
       " 89: 66,\n",
       " 0: 65,\n",
       " 2: 64,\n",
       " 5: 63,\n",
       " 6: 62,\n",
       " 152: 61,\n",
       " 153: 60,\n",
       " 154: 59,\n",
       " 155: 58,\n",
       " 156: 57,\n",
       " 157: 56,\n",
       " 163: 55,\n",
       " 164: 54,\n",
       " 137: 53,\n",
       " 139: 52,\n",
       " 140: 51,\n",
       " 141: 50,\n",
       " 142: 49,\n",
       " 146: 48,\n",
       " 147: 47,\n",
       " 65: 46,\n",
       " 196: 45,\n",
       " 133: 44,\n",
       " 165: 43,\n",
       " 69: 42,\n",
       " 171: 41,\n",
       " 68: 40,\n",
       " 185: 39,\n",
       " 190: 38,\n",
       " 191: 37,\n",
       " 99: 36,\n",
       " 101: 35,\n",
       " 21: 34,\n",
       " 22: 33,\n",
       " 28: 32,\n",
       " 174: 31,\n",
       " 119: 30,\n",
       " 122: 29,\n",
       " 62: 28,\n",
       " 33: 27,\n",
       " 54: 26,\n",
       " 159: 25,\n",
       " 93: 24,\n",
       " 158: 23,\n",
       " 130: 22,\n",
       " 168: 21,\n",
       " 124: 20,\n",
       " 172: 19,\n",
       " 183: 18,\n",
       " 189: 17,\n",
       " 44: 16,\n",
       " 116: 15,\n",
       " 194: 14,\n",
       " 192: 13,\n",
       " 138: 12,\n",
       " 193: 11,\n",
       " 195: 10,\n",
       " 32: 9,\n",
       " 177: 8,\n",
       " 179: 7,\n",
       " 123: 6,\n",
       " 58: 5,\n",
       " 55: 4,\n",
       " 57: 3,\n",
       " 161: 2,\n",
       " 162: 1}"
      ]
     },
     "execution_count": 22,
     "metadata": {},
     "output_type": "execute_result"
    }
   ],
   "source": [
    "dict_map_eq_centrality"
   ]
  },
  {
   "cell_type": "code",
   "execution_count": 23,
   "id": "112f66b1",
   "metadata": {},
   "outputs": [],
   "source": [
    "# Write Centrality\n",
    "with open('./MapEquationCentralityResults/Infra-InternetTopCogentco/dict_map_eq_centrality.txt', 'w') as f:\n",
    "    for key, value in dict_map_eq_centrality.items():\n",
    "        f.write('%s:%s\\n' % (key, value))"
   ]
  },
  {
   "cell_type": "code",
   "execution_count": 24,
   "id": "231b5408",
   "metadata": {},
   "outputs": [],
   "source": [
    "# Read Centrality\n",
    "dict_map_eq_centrality_read = dict()\n",
    "with open('./MapEquationCentralityResults/Infra-InternetTopCogentco/dict_map_eq_centrality.txt') as raw_data:\n",
    "    for item in raw_data:\n",
    "        if ':' in item:\n",
    "            key,value = item.split(':', 1)\n",
    "            value = value.replace('\\n', '')\n",
    "            dict_map_eq_centrality_read[int(key)]=float(value)\n",
    "        else:\n",
    "            pass # deal with bad lines of text here"
   ]
  },
  {
   "cell_type": "code",
   "execution_count": 25,
   "id": "e70372fe",
   "metadata": {},
   "outputs": [
    {
     "data": {
      "text/plain": [
       "True"
      ]
     },
     "execution_count": 25,
     "metadata": {},
     "output_type": "execute_result"
    }
   ],
   "source": [
    "dict_map_eq_centrality_read == dict_map_eq_centrality"
   ]
  },
  {
   "cell_type": "code",
   "execution_count": null,
   "id": "175c55bf",
   "metadata": {},
   "outputs": [],
   "source": []
  },
  {
   "cell_type": "code",
   "execution_count": null,
   "id": "67a3b566",
   "metadata": {},
   "outputs": [],
   "source": []
  },
  {
   "cell_type": "code",
   "execution_count": null,
   "id": "032d8597",
   "metadata": {},
   "outputs": [],
   "source": []
  }
 ],
 "metadata": {
  "kernelspec": {
   "display_name": "Python 3",
   "language": "python",
   "name": "python3"
  },
  "language_info": {
   "codemirror_mode": {
    "name": "ipython",
    "version": 3
   },
   "file_extension": ".py",
   "mimetype": "text/x-python",
   "name": "python",
   "nbconvert_exporter": "python",
   "pygments_lexer": "ipython3",
   "version": "3.8.8"
  },
  "toc": {
   "base_numbering": 1,
   "nav_menu": {},
   "number_sections": true,
   "sideBar": true,
   "skip_h1_title": false,
   "title_cell": "Table of Contents",
   "title_sidebar": "Contents",
   "toc_cell": false,
   "toc_position": {
    "height": "calc(100% - 180px)",
    "left": "10px",
    "top": "150px",
    "width": "384px"
   },
   "toc_section_display": true,
   "toc_window_display": true
  }
 },
 "nbformat": 4,
 "nbformat_minor": 5
}
