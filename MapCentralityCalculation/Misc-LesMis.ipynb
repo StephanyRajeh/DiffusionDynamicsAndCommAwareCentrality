{
 "cells": [
  {
   "cell_type": "markdown",
   "id": "43d9a51e",
   "metadata": {},
   "source": [
    "# Real-world network"
   ]
  },
  {
   "cell_type": "code",
   "execution_count": 1,
   "id": "e61acc21",
   "metadata": {},
   "outputs": [],
   "source": [
    "import networkx as nx\n",
    "from networkx.algorithms.centrality import *\n",
    "import numpy as np\n",
    "import operator\n",
    "from analysis import *"
   ]
  },
  {
   "cell_type": "code",
   "execution_count": 2,
   "id": "b8c49150",
   "metadata": {},
   "outputs": [],
   "source": [
    "g = nx.read_gml(\"./RealNetworks/lesmiserables.gml\")"
   ]
  },
  {
   "cell_type": "code",
   "execution_count": 3,
   "id": "d819e1fe",
   "metadata": {
    "scrolled": true
   },
   "outputs": [
    {
     "name": "stdout",
     "output_type": "stream",
     "text": [
      "Graph with 77 nodes and 254 edges\n"
     ]
    },
    {
     "name": "stderr",
     "output_type": "stream",
     "text": [
      "<ipython-input-3-99dac2172e06>:1: DeprecationWarning: info is deprecated and will be removed in version 3.0.\n",
      "\n",
      "  print(nx.info(g))\n"
     ]
    }
   ],
   "source": [
    "print(nx.info(g))"
   ]
  },
  {
   "cell_type": "markdown",
   "id": "202c17db",
   "metadata": {},
   "source": [
    "# Check connectedness"
   ]
  },
  {
   "cell_type": "code",
   "execution_count": 4,
   "id": "31f16d8a",
   "metadata": {
    "scrolled": true
   },
   "outputs": [
    {
     "data": {
      "text/plain": [
       "True"
      ]
     },
     "execution_count": 4,
     "metadata": {},
     "output_type": "execute_result"
    }
   ],
   "source": [
    "nx.is_connected(g)"
   ]
  },
  {
   "cell_type": "code",
   "execution_count": 5,
   "id": "2de0864e",
   "metadata": {},
   "outputs": [
    {
     "data": {
      "text/plain": [
       "1"
      ]
     },
     "execution_count": 5,
     "metadata": {},
     "output_type": "execute_result"
    }
   ],
   "source": [
    "nx.number_connected_components(g)"
   ]
  },
  {
   "cell_type": "markdown",
   "id": "95a58fe2",
   "metadata": {},
   "source": [
    "# Get LCC if graph is disconnected"
   ]
  },
  {
   "cell_type": "raw",
   "id": "bb6cefd2",
   "metadata": {},
   "source": [
    "\"\"\"Step 5: If the graph after immunization is disconnected, get the largest component\"\"\"\n",
    "g_lcc = nx.Graph() \n",
    "\n",
    "if nx.is_connected(g) == False: \n",
    "    largestComponents = [g.subgraph(c).copy() for c in sorted(nx.connected_components(g), key=len, reverse=True)] \n",
    "    print(nx.info(largestComponents[0]))\n",
    "\n",
    "g_lcc=largestComponents[0] \n",
    "\n",
    "print(nx.info(g_lcc))\n",
    "\n",
    "g = g_lcc\n",
    "\n",
    "print(nx.info(g))"
   ]
  },
  {
   "cell_type": "markdown",
   "id": "effe9aef",
   "metadata": {},
   "source": [
    "# Relabel it all if nodes are strings\n",
    "- To be able to run all types of correlation together\n",
    "- But put the graph relabled in `g_relabled`"
   ]
  },
  {
   "cell_type": "code",
   "execution_count": 6,
   "id": "b6861f34",
   "metadata": {},
   "outputs": [],
   "source": [
    "from myTruss import mappingAndRelabeling"
   ]
  },
  {
   "cell_type": "code",
   "execution_count": 7,
   "id": "42774d3b",
   "metadata": {},
   "outputs": [],
   "source": [
    "g_relabled = mappingAndRelabeling(g)"
   ]
  },
  {
   "cell_type": "code",
   "execution_count": 8,
   "id": "7ba6d76c",
   "metadata": {},
   "outputs": [
    {
     "name": "stdout",
     "output_type": "stream",
     "text": [
      "Graph with 77 nodes and 254 edges\n",
      "Graph with 77 nodes and 254 edges\n"
     ]
    },
    {
     "name": "stderr",
     "output_type": "stream",
     "text": [
      "<ipython-input-8-632c4a2d19f6>:1: DeprecationWarning: info is deprecated and will be removed in version 3.0.\n",
      "\n",
      "  print(nx.info(g))\n",
      "<ipython-input-8-632c4a2d19f6>:2: DeprecationWarning: info is deprecated and will be removed in version 3.0.\n",
      "\n",
      "  print(nx.info(g_relabled))\n"
     ]
    }
   ],
   "source": [
    "print(nx.info(g))\n",
    "print(nx.info(g_relabled))"
   ]
  },
  {
   "cell_type": "code",
   "execution_count": 9,
   "id": "fbdfb76a",
   "metadata": {},
   "outputs": [],
   "source": [
    "g = g_relabled"
   ]
  },
  {
   "cell_type": "markdown",
   "id": "720c54c0",
   "metadata": {},
   "source": [
    "# Infer community structure with Louvain"
   ]
  },
  {
   "cell_type": "code",
   "execution_count": 10,
   "id": "ea12d7ab",
   "metadata": {
    "scrolled": true
   },
   "outputs": [
    {
     "data": {
      "text/plain": [
       "'2.8.4'"
      ]
     },
     "execution_count": 10,
     "metadata": {},
     "output_type": "execute_result"
    }
   ],
   "source": [
    "nx.__version__"
   ]
  },
  {
   "cell_type": "code",
   "execution_count": 11,
   "id": "d87ac148",
   "metadata": {},
   "outputs": [],
   "source": [
    "import pandas as pd\n",
    "from os.path  import exists\n",
    "import infomap as im"
   ]
  },
  {
   "cell_type": "code",
   "execution_count": 12,
   "id": "da91b8ea",
   "metadata": {},
   "outputs": [
    {
     "data": {
      "text/plain": [
       "'2.3.0'"
      ]
     },
     "execution_count": 12,
     "metadata": {},
     "output_type": "execute_result"
    }
   ],
   "source": [
    "im.__version__"
   ]
  },
  {
   "cell_type": "code",
   "execution_count": 13,
   "id": "e4e5b0ec",
   "metadata": {},
   "outputs": [],
   "source": [
    "G = g"
   ]
  },
  {
   "cell_type": "code",
   "execution_count": 14,
   "id": "8688890e",
   "metadata": {},
   "outputs": [
    {
     "name": "stderr",
     "output_type": "stream",
     "text": [
      "Progress |################################| 4/4\n",
      "\u001b[?25h"
     ]
    }
   ],
   "source": [
    "partition   = nx.algorithms.community.louvain_communities(G, seed = 0)\n",
    "partition_Q = nx.algorithms.community.modularity(G, partition)\n",
    "\n",
    "for seed in Bar(\"Progress\", check_tty = False).iter(range(1,5)):\n",
    "    partition_   = nx.algorithms.community.louvain_communities(G, seed = seed)\n",
    "    partition_Q_ = nx.algorithms.community.modularity(G, partition_)\n",
    "    \n",
    "    if partition_Q_ > partition_Q:\n",
    "        partition   = partition_\n",
    "        partition_Q = partition_Q_"
   ]
  },
  {
   "cell_type": "code",
   "execution_count": 15,
   "id": "9886be17",
   "metadata": {},
   "outputs": [],
   "source": [
    "communities = { community_ID : set(community) for (community_ID, community) in enumerate(partition, start = 1)}"
   ]
  },
  {
   "cell_type": "code",
   "execution_count": 16,
   "id": "1516539c",
   "metadata": {},
   "outputs": [],
   "source": [
    "community_assignments = dict()\n",
    "for (community_ID, community) in communities.items():\n",
    "    for node in community:\n",
    "        community_assignments[node] = community_ID"
   ]
  },
  {
   "cell_type": "code",
   "execution_count": 17,
   "id": "3c84a416",
   "metadata": {},
   "outputs": [],
   "source": [
    "results_file = \"./results/lesmis-modularity.csv\"\n",
    "\n",
    "if not exists(results_file):\n",
    "    # Map Equation Centrality\n",
    "    tree_file = \"./results/lesmis-temp.tree\"\n",
    "\n",
    "    # use Infomap to write a tree file that we change to reflect the Louvain partition\n",
    "    infomap = im.Infomap(silent = True, num_trials = 1, directed = False, two_level = True, seed = 42)\n",
    "    infomap.add_networkx_graph(G)\n",
    "    infomap.run()\n",
    "    infomap.write_tree(tree_file)\n",
    "    \n",
    "    infomap_tree = dict()\n",
    "\n",
    "    # read the tree file\n",
    "    with open(tree_file, \"r\") as fh:\n",
    "        for line in fh:\n",
    "            if not line.startswith(\"#\"):\n",
    "                _, flow, name, node_id = line.strip().split(\" \")\n",
    "                name = name[1:-1]\n",
    "                infomap_tree[int(name)] = (flow, node_id)\n",
    "    \n",
    "    # write the Louvain partition to an Infomap tree file\n",
    "    with open(\"./results/lesmis-modularity.tree\", \"w\") as fh:\n",
    "        for community_ID, community in enumerate(partition, start = 1):\n",
    "            for node_pos, node in enumerate(community, start = 1):\n",
    "                path = f\"{community_ID}:{node_pos}\"\n",
    "                flow, node_id = infomap_tree[node]\n",
    "                fh.write(f\"{path} {flow} \\\"{node}\\\" {node_id}\\n\")\n",
    "    \n",
    "    # Load the Louvain partition with Infomap and use unrecorded link teleportation\n",
    "    infomap2 = im.Infomap(\"--silent --no-infomap --cluster-data ./results/lesmis-modularity.tree\")\n",
    "    node_mapping = infomap2.add_networkx_graph(G)\n",
    "    infomap2.run()\n",
    "    \n",
    "    mec_ranks = [node for node, _score in sorted( [ (node_mapping[node.node_id], node.modular_centrality) for node in infomap2.iterLeafNodes() ]\n",
    "                                                 , key     = second\n",
    "                                                 , reverse = True\n",
    "                                                 )]\n",
    "\n",
    "    \n",
    "    index = []\n",
    "    for node in G.nodes:\n",
    "        index.append(node)\n",
    "\n",
    "    results = pd.DataFrame(index=index)\n",
    "\n",
    "    results[\"map equation centrality rank\"]       = toRanking(mec_ranks,        results.index)\n",
    "    results.to_csv(results_file)\n",
    "\n",
    "else:\n",
    "    results = pd.read_csv(results_file, index_col = 0)\n",
    "\n",
    "    mec_ranks         = mkRanks(results[\"map equation centrality rank\"])"
   ]
  },
  {
   "cell_type": "code",
   "execution_count": 18,
   "id": "af2edadd",
   "metadata": {},
   "outputs": [
    {
     "data": {
      "text/plain": [
       "77"
      ]
     },
     "execution_count": 18,
     "metadata": {},
     "output_type": "execute_result"
    }
   ],
   "source": [
    "len(mec_ranks)"
   ]
  },
  {
   "cell_type": "code",
   "execution_count": 19,
   "id": "3c809f7e",
   "metadata": {},
   "outputs": [
    {
     "data": {
      "text/plain": [
       "[11,\n",
       " 48,\n",
       " 55,\n",
       " 27,\n",
       " 25,\n",
       " 58,\n",
       " 23,\n",
       " 64,\n",
       " 62,\n",
       " 65,\n",
       " 63,\n",
       " 57,\n",
       " 59,\n",
       " 61,\n",
       " 41,\n",
       " 24,\n",
       " 26,\n",
       " 66,\n",
       " 68,\n",
       " 69,\n",
       " 70,\n",
       " 60,\n",
       " 71,\n",
       " 16,\n",
       " 29,\n",
       " 0,\n",
       " 76,\n",
       " 75,\n",
       " 17,\n",
       " 18,\n",
       " 19,\n",
       " 20,\n",
       " 21,\n",
       " 22,\n",
       " 49,\n",
       " 51,\n",
       " 34,\n",
       " 35,\n",
       " 36,\n",
       " 37,\n",
       " 38,\n",
       " 28,\n",
       " 31,\n",
       " 54,\n",
       " 42,\n",
       " 39,\n",
       " 72,\n",
       " 43,\n",
       " 2,\n",
       " 3,\n",
       " 73,\n",
       " 74,\n",
       " 47,\n",
       " 33,\n",
       " 44,\n",
       " 12,\n",
       " 30,\n",
       " 50,\n",
       " 52,\n",
       " 56,\n",
       " 67,\n",
       " 46,\n",
       " 40,\n",
       " 32,\n",
       " 10,\n",
       " 13,\n",
       " 14,\n",
       " 15,\n",
       " 45,\n",
       " 53,\n",
       " 1,\n",
       " 4,\n",
       " 5,\n",
       " 6,\n",
       " 7,\n",
       " 8,\n",
       " 9]"
      ]
     },
     "execution_count": 19,
     "metadata": {},
     "output_type": "execute_result"
    }
   ],
   "source": [
    "# node 107 has rank 0 (i.e. 1)\n",
    "# node 1684 has rank 1 (i.e. 2)\n",
    "# ...\n",
    "# node 0 has rank 4 (i.e. 5)\n",
    "mec_ranks"
   ]
  },
  {
   "cell_type": "code",
   "execution_count": 20,
   "id": "a5b686ab",
   "metadata": {},
   "outputs": [],
   "source": [
    "counter = len(mec_ranks)\n",
    "dict_map_eq_centrality = {}"
   ]
  },
  {
   "cell_type": "code",
   "execution_count": 21,
   "id": "b76f2ba6",
   "metadata": {},
   "outputs": [],
   "source": [
    "for node in mec_ranks:\n",
    "    dict_map_eq_centrality[int(node)] = counter\n",
    "    counter = counter - 1"
   ]
  },
  {
   "cell_type": "code",
   "execution_count": 22,
   "id": "060cca68",
   "metadata": {},
   "outputs": [
    {
     "data": {
      "text/plain": [
       "{11: 77,\n",
       " 48: 76,\n",
       " 55: 75,\n",
       " 27: 74,\n",
       " 25: 73,\n",
       " 58: 72,\n",
       " 23: 71,\n",
       " 64: 70,\n",
       " 62: 69,\n",
       " 65: 68,\n",
       " 63: 67,\n",
       " 57: 66,\n",
       " 59: 65,\n",
       " 61: 64,\n",
       " 41: 63,\n",
       " 24: 62,\n",
       " 26: 61,\n",
       " 66: 60,\n",
       " 68: 59,\n",
       " 69: 58,\n",
       " 70: 57,\n",
       " 60: 56,\n",
       " 71: 55,\n",
       " 16: 54,\n",
       " 29: 53,\n",
       " 0: 52,\n",
       " 76: 51,\n",
       " 75: 50,\n",
       " 17: 49,\n",
       " 18: 48,\n",
       " 19: 47,\n",
       " 20: 46,\n",
       " 21: 45,\n",
       " 22: 44,\n",
       " 49: 43,\n",
       " 51: 42,\n",
       " 34: 41,\n",
       " 35: 40,\n",
       " 36: 39,\n",
       " 37: 38,\n",
       " 38: 37,\n",
       " 28: 36,\n",
       " 31: 35,\n",
       " 54: 34,\n",
       " 42: 33,\n",
       " 39: 32,\n",
       " 72: 31,\n",
       " 43: 30,\n",
       " 2: 29,\n",
       " 3: 28,\n",
       " 73: 27,\n",
       " 74: 26,\n",
       " 47: 25,\n",
       " 33: 24,\n",
       " 44: 23,\n",
       " 12: 22,\n",
       " 30: 21,\n",
       " 50: 20,\n",
       " 52: 19,\n",
       " 56: 18,\n",
       " 67: 17,\n",
       " 46: 16,\n",
       " 40: 15,\n",
       " 32: 14,\n",
       " 10: 13,\n",
       " 13: 12,\n",
       " 14: 11,\n",
       " 15: 10,\n",
       " 45: 9,\n",
       " 53: 8,\n",
       " 1: 7,\n",
       " 4: 6,\n",
       " 5: 5,\n",
       " 6: 4,\n",
       " 7: 3,\n",
       " 8: 2,\n",
       " 9: 1}"
      ]
     },
     "execution_count": 22,
     "metadata": {},
     "output_type": "execute_result"
    }
   ],
   "source": [
    "dict_map_eq_centrality"
   ]
  },
  {
   "cell_type": "code",
   "execution_count": 23,
   "id": "112f66b1",
   "metadata": {},
   "outputs": [],
   "source": [
    "# Write Centrality\n",
    "with open('./MapEquationCentralityResults/Misc-LesMis/dict_map_eq_centrality.txt', 'w') as f:\n",
    "    for key, value in dict_map_eq_centrality.items():\n",
    "        f.write('%s:%s\\n' % (key, value))"
   ]
  },
  {
   "cell_type": "code",
   "execution_count": 24,
   "id": "231b5408",
   "metadata": {},
   "outputs": [],
   "source": [
    "# Read Centrality\n",
    "dict_map_eq_centrality_read = dict()\n",
    "with open('./MapEquationCentralityResults/Misc-LesMis/dict_map_eq_centrality.txt') as raw_data:\n",
    "    for item in raw_data:\n",
    "        if ':' in item:\n",
    "            key,value = item.split(':', 1)\n",
    "            value = value.replace('\\n', '')\n",
    "            dict_map_eq_centrality_read[int(key)]=float(value)\n",
    "        else:\n",
    "            pass # deal with bad lines of text here"
   ]
  },
  {
   "cell_type": "code",
   "execution_count": 25,
   "id": "e70372fe",
   "metadata": {},
   "outputs": [
    {
     "data": {
      "text/plain": [
       "True"
      ]
     },
     "execution_count": 25,
     "metadata": {},
     "output_type": "execute_result"
    }
   ],
   "source": [
    "dict_map_eq_centrality_read == dict_map_eq_centrality"
   ]
  },
  {
   "cell_type": "code",
   "execution_count": null,
   "id": "175c55bf",
   "metadata": {},
   "outputs": [],
   "source": []
  },
  {
   "cell_type": "code",
   "execution_count": null,
   "id": "67a3b566",
   "metadata": {},
   "outputs": [],
   "source": []
  },
  {
   "cell_type": "code",
   "execution_count": null,
   "id": "032d8597",
   "metadata": {},
   "outputs": [],
   "source": []
  }
 ],
 "metadata": {
  "kernelspec": {
   "display_name": "Python 3",
   "language": "python",
   "name": "python3"
  },
  "language_info": {
   "codemirror_mode": {
    "name": "ipython",
    "version": 3
   },
   "file_extension": ".py",
   "mimetype": "text/x-python",
   "name": "python",
   "nbconvert_exporter": "python",
   "pygments_lexer": "ipython3",
   "version": "3.8.8"
  },
  "toc": {
   "base_numbering": 1,
   "nav_menu": {},
   "number_sections": true,
   "sideBar": true,
   "skip_h1_title": false,
   "title_cell": "Table of Contents",
   "title_sidebar": "Contents",
   "toc_cell": false,
   "toc_position": {
    "height": "calc(100% - 180px)",
    "left": "10px",
    "top": "150px",
    "width": "384px"
   },
   "toc_section_display": true,
   "toc_window_display": true
  }
 },
 "nbformat": 4,
 "nbformat_minor": 5
}
